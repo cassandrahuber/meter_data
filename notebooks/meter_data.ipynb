{
 "cells": [
  {
   "cell_type": "code",
   "execution_count": 2,
   "id": "76d91bb2-6a05-41cd-9b46-b68babc9adec",
   "metadata": {},
   "outputs": [],
   "source": [
    "import pandas as pd\n",
    "import os"
   ]
  },
  {
   "cell_type": "code",
   "execution_count": 3,
   "id": "79a07974-7efc-4f1d-8a7d-aefa616dbf71",
   "metadata": {},
   "outputs": [],
   "source": [
    "# define the base path to thumb drive (input path)\n",
    "base_path = '/Volumes/Untitled/MeterDataTest'\n",
    "\n",
    "#check if base path exists\n",
    "if not os.path.exists(base_path):\n",
    "    print(f\"Error: Path {base_path} does not exist\")\n",
    "    exit()"
   ]
  },
  {
   "cell_type": "code",
   "execution_count": 4,
   "id": "2cd34a68-6c88-4a8c-a818-d0b0a9d2af7a",
   "metadata": {},
   "outputs": [],
   "source": [
    "# list to store all dataframes\n",
    "all_data = []\n",
    "\n",
    "# dataframe for all data\n",
    "combined_data = pd.DataFrame()"
   ]
  },
  {
   "cell_type": "code",
   "execution_count": 14,
   "id": "a4739ed4-23c3-45a8-b40f-5dd13e879d32",
   "metadata": {},
   "outputs": [],
   "source": [
    "# iterate through the subfolders in the MeterDataTest folder\n",
    "for subfolder in os.listdir(base_path):\n",
    "    subfolder.replace(\" \", \"_\")\n",
    "    # create path for each subfolder\n",
    "    folder_path = os.path.join(base_path, subfolder)\n",
    "\n",
    "    # get the name of the meter from the subfolder name, make lowercase\n",
    "    meter_name = subfolder.lower().replace(\" \", \"_\") \n",
    "\n",
    "    # list of csv file paths in subfolder\n",
    "    # addition with the and not is to make sure to ignore the hidden ._ files\n",
    "    csv_paths = [os.path.join(folder_path, f) \n",
    "                 for f in os.listdir(folder_path) \n",
    "                 if f.endswith('.csv')\n",
    "                 and not f.startswith(\"._\")\n",
    "                 and not f.startswith(\".\")]\n",
    "\n",
    "    # convert each csv to a df, fix columns and add df to df list\n",
    "    for csv in csv_paths:\n",
    "        df = pd.read_csv(csv, encoding=\"utf-8\")\n",
    "\n",
    "        df.columns = df.columns.str.strip().str.lower().str.replace(\" \", \"_\")\n",
    "        # change col name\n",
    "        df.rename(columns={'total_watt_hour': 'kw_average'}, inplace=True)\n",
    "        \n",
    "        df.insert(0, 'meter_name', meter_name)\n",
    "\n",
    "        all_data.append(df)"
   ]
  },
  {
   "cell_type": "code",
   "execution_count": 12,
   "id": "a6ccaa2e-de47-4dc1-9713-0bc59ed3851b",
   "metadata": {},
   "outputs": [],
   "source": [
    "# combine all dataframes in list to one dataframe\n",
    "combined_data = pd.concat(all_data, ignore_index=True)"
   ]
  },
  {
   "cell_type": "code",
   "execution_count": 13,
   "id": "82582ae7-b07a-494c-bacf-d79ecee576c2",
   "metadata": {},
   "outputs": [],
   "source": [
    "# convert dataframe to csv\n",
    "combined_data.to_csv('step1.csv', index=False)"
   ]
  },
  {
   "cell_type": "code",
   "execution_count": null,
   "id": "dce184da-6e00-40b8-a16c-d568ba738433",
   "metadata": {},
   "outputs": [],
   "source": []
  },
  {
   "cell_type": "code",
   "execution_count": 10,
   "id": "860a8d75-f808-4074-915a-4436bae5d0d7",
   "metadata": {},
   "outputs": [],
   "source": []
  },
  {
   "cell_type": "code",
   "execution_count": null,
   "id": "5d32ad62-4189-43ca-a2f7-329bdbbaad8b",
   "metadata": {},
   "outputs": [],
   "source": []
  }
 ],
 "metadata": {
  "kernelspec": {
   "display_name": "Python 3 (ipykernel)",
   "language": "python",
   "name": "python3"
  },
  "language_info": {
   "codemirror_mode": {
    "name": "ipython",
    "version": 3
   },
   "file_extension": ".py",
   "mimetype": "text/x-python",
   "name": "python",
   "nbconvert_exporter": "python",
   "pygments_lexer": "ipython3",
   "version": "3.11.13"
  }
 },
 "nbformat": 4,
 "nbformat_minor": 5
}
