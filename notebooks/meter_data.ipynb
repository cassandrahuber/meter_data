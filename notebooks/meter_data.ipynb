{
 "cells": [
  {
   "cell_type": "code",
   "execution_count": 1,
   "id": "75720fb8-a987-4062-955b-e2f00f9cf216",
   "metadata": {},
   "outputs": [],
   "source": [
    "import pandas as pd\n",
    "import os\n",
    "from pathlib import Path"
   ]
  },
  {
   "cell_type": "code",
   "execution_count": 2,
   "id": "1e86f009-4cef-4c23-90c7-b2c3d17245e9",
   "metadata": {},
   "outputs": [],
   "source": [
    "# input thumb drive path\n",
    "td_path = \"/Volumes/Untitled/MeterDataTest\""
   ]
  },
  {
   "cell_type": "code",
   "execution_count": 5,
   "id": "9db84596-5922-4892-93ab-db7937212e7e",
   "metadata": {},
   "outputs": [],
   "source": [
    "# define the base path to thumb drive\n",
    "base_path = Path(td_path)\n",
    "\n",
    "#check if base path exists\n",
    "if not base_path.exists():\n",
    "    print(f\"Error: Path {base_path} does not exist\")\n",
    "    exit()"
   ]
  },
   ]
  }
 ],
 "metadata": {
  "kernelspec": {
   "display_name": "Python 3 (ipykernel)",
   "language": "python",
   "name": "python3"
  },
  "language_info": {
   "codemirror_mode": {
    "name": "ipython",
    "version": 3
   },
   "file_extension": ".py",
   "mimetype": "text/x-python",
   "name": "python",
   "nbconvert_exporter": "python",
   "pygments_lexer": "ipython3",
   "version": "3.11.13"
  }
 },
 "nbformat": 4,
 "nbformat_minor": 5
}
