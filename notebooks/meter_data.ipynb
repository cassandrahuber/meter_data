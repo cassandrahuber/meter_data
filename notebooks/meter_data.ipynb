{
 "cells": [
  {
   "cell_type": "code",
   "execution_count": 1,
   "id": "76d91bb2-6a05-41cd-9b46-b68babc9adec",
   "metadata": {},
   "outputs": [],
   "source": [
    "import pandas as pd\n",
    "import os "
   ]
  },
  {
   "cell_type": "code",
   "execution_count": 2,
   "id": "79a07974-7efc-4f1d-8a7d-aefa616dbf71",
   "metadata": {},
   "outputs": [],
   "source": [
    "# define the base path to thumb drive (input path)\n",
    "base_path = '/Volumes/Untitled/MeterDataTest'\n",
    "\n",
    "#check if base path exists\n",
    "if not os.path.exists(base_path):\n",
    "    print(f\"Error: Path {base_path} does not exist\")\n",
    "    exit()"
   ]
  },
  {
   "cell_type": "code",
   "execution_count": 3,
   "id": "2cd34a68-6c88-4a8c-a818-d0b0a9d2af7a",
   "metadata": {},
   "outputs": [],
   "source": [
    "# list to store all dataframes\n",
    "all_data = []\n",
    "\n",
    "#list to store all dataframes with 3_phase_watt_total column for later use\n",
    "save_data = []\n",
    "\n",
    "# dataframe for all data\n",
    "combined_data = pd.DataFrame()\n",
    "save_data_col = pd.DataFrame()"
   ]
  },
  {
   "cell_type": "code",
   "execution_count": null,
   "id": "a4739ed4-23c3-45a8-b40f-5dd13e879d32",
   "metadata": {},
   "outputs": [],
   "source": [
    "# iterate through the subfolders in the MeterDataTest folder\n",
    "for subfolder in os.listdir(base_path):\n",
    "    subfolder.replace(\" \", \"_\")\n",
    "    # create path for each subfolder\n",
    "    folder_path = os.path.join(base_path, subfolder)\n",
    "\n",
    "    # get the name of the meter from the subfolder name, make lowercase\n",
    "    meter_name = subfolder.lower().replace(\" \", \"_\") \n",
    "\n",
    "    # list of csv file paths in subfolder\n",
    "    # addition with the and not is to make sure to ignore the hidden ._ files\n",
    "    csv_paths = [os.path.join(folder_path, f) \n",
    "                 for f in os.listdir(folder_path) \n",
    "                 if f.endswith('.csv')\n",
    "                 and not f.startswith(\"._\")\n",
    "                 and not f.startswith(\".\")]\n",
    "\n",
    "    # convert each csv to a df, fix columns and add df to df list\n",
    "    for csv in csv_paths:\n",
    "        df = pd.read_csv(csv, encoding=\"utf-8\")\n",
    "\n",
    "        df.columns = df.columns.str.strip().str.lower().str.replace(\" \", \"_\")\n",
    "        \n",
    "        if '3_phase_positive_real_energy_used' in df.columns:\n",
    "            df.rename(columns={'3_phase_positive_real_energy_used': 'total_watt_hour', '3_phase_real_power':'3_phase_watt_total'}, inplace=True)\n",
    "\n",
    "        # reorder the columns\n",
    "        df = df[['datetime', 'total_watt_hour', '3_phase_watt_total']]\n",
    "\n",
    "        df.insert(1, 'meter_name', meter_name)\n",
    "\n",
    "        # save the dataframe with all columns to list\n",
    "        save_data.append(df.copy())\n",
    "\n",
    "        df.drop('3_phase_watt_total', axis=1, inplace=True)\n",
    "        \n",
    "        \n",
    "        # change col name\n",
    "        #df.rename(columns={'total_watt_hour': 'mean'}, inplace=True)\n",
    "        \n",
    "\n",
    "        all_data.append(df)"
   ]
  },
  {
   "cell_type": "code",
   "execution_count": 19,
   "id": "339cad92-2057-4e24-962a-c34e1119bdae",
   "metadata": {},
   "outputs": [],
   "source": [
    "# create with all columns to save for later\n",
    "save_data_col = pd.concat(save_data, ignore_index=True)"
   ]
  },
  {
   "cell_type": "code",
   "execution_count": 20,
   "id": "a6ccaa2e-de47-4dc1-9713-0bc59ed3851b",
   "metadata": {},
   "outputs": [],
   "source": [
    "# combine all dataframes in list to one dataframe\n",
    "combined_data = pd.concat(all_data, ignore_index=True)"
   ]
  },
  {
   "cell_type": "code",
   "execution_count": 21,
   "id": "57b7096e-62d3-45ea-a48c-75200ac36792",
   "metadata": {},
   "outputs": [
    {
     "name": "stdout",
     "output_type": "stream",
     "text": [
      "              datetime        meter_name  total_watt_hour  3_phase_watt_total\n",
      "0  2025-07-23 09:40:50  admin_serv_1_mtr          1381508        27995.804688\n",
      "1  2025-07-23 09:41:54  admin_serv_1_mtr          1381508        36522.058594\n",
      "2  2025-07-23 09:42:59  admin_serv_1_mtr          1381509        27541.597656\n",
      "3  2025-07-23 09:44:03  admin_serv_1_mtr          1381510        27613.425781\n",
      "4  2025-07-23 09:45:08  admin_serv_1_mtr          1381510        27681.099609\n",
      "5  2025-07-23 09:46:14  admin_serv_1_mtr          1381511        18152.441406\n",
      "6  2025-07-23 09:47:20  admin_serv_1_mtr          1381511        28280.800781\n",
      "7  2025-07-23 09:48:26  admin_serv_1_mtr          1381512        26957.160156\n",
      "8  2025-07-23 09:48:39  admin_serv_1_mtr          1381512        27021.441406\n",
      "9  2025-07-23 09:49:39  admin_serv_1_mtr          1381512        26907.064453\n",
      "hi                  datetime        meter_name  total_watt_hour  \\\n",
      "0     2025-07-28 00:00:18  admin_serv_1_mtr          1383795   \n",
      "1     2025-07-28 00:01:18  admin_serv_1_mtr          1383795   \n",
      "2     2025-07-28 00:02:18  admin_serv_1_mtr          1383796   \n",
      "3     2025-07-28 00:03:18  admin_serv_1_mtr          1383796   \n",
      "4     2025-07-28 00:04:18  admin_serv_1_mtr          1383796   \n",
      "...                   ...               ...              ...   \n",
      "9832  2025-08-03 21:34:48  admin_serv_1_mtr          1387744   \n",
      "9833  2025-08-03 21:35:48  admin_serv_1_mtr          1387744   \n",
      "9834  2025-08-03 21:36:48  admin_serv_1_mtr          1387745   \n",
      "9835  2025-08-03 21:37:51  admin_serv_1_mtr          1387745   \n",
      "9836  2025-08-03 21:38:52  admin_serv_1_mtr          1387746   \n",
      "\n",
      "      3_phase_watt_total  \n",
      "0            5929.339355  \n",
      "1           13057.466797  \n",
      "2           13876.699219  \n",
      "3           12732.407227  \n",
      "4           21757.675781  \n",
      "...                  ...  \n",
      "9832        24927.970703  \n",
      "9833        43911.746094  \n",
      "9834        17965.417969  \n",
      "9835        27320.195312  \n",
      "9836        27374.937500  \n",
      "\n",
      "[9837 rows x 4 columns]\n",
      "              datetime        meter_name  total_watt_hour  3_phase_watt_total\n",
      "0  2025-07-23 09:40:50  admin_serv_1_mtr          1381508        27995.804688\n",
      "1  2025-07-23 09:41:54  admin_serv_1_mtr          1381508        36522.058594\n",
      "2  2025-07-23 09:42:59  admin_serv_1_mtr          1381509        27541.597656\n",
      "3  2025-07-23 09:44:03  admin_serv_1_mtr          1381510        27613.425781\n",
      "4  2025-07-23 09:45:08  admin_serv_1_mtr          1381510        27681.099609\n",
      "5  2025-07-23 09:46:14  admin_serv_1_mtr          1381511        18152.441406\n",
      "6  2025-07-23 09:47:20  admin_serv_1_mtr          1381511        28280.800781\n",
      "7  2025-07-23 09:48:26  admin_serv_1_mtr          1381512        26957.160156\n",
      "8  2025-07-23 09:48:39  admin_serv_1_mtr          1381512        27021.441406\n",
      "9  2025-07-23 09:49:39  admin_serv_1_mtr          1381512        26907.064453\n"
     ]
    }
   ],
   "source": [
    "print(save_data_col.head(10))\n",
    "print(\"hi\",save_data[1])\n",
    "print(combined_data.head(10))"
   ]
  },
  {
   "cell_type": "code",
   "execution_count": 16,
   "id": "993984ec-ca33-47de-9e98-b677b16258bb",
   "metadata": {},
   "outputs": [],
   "source": [
    "save_data_col.to_csv('save_data_col.csv', index=False)"
   ]
  },
  {
   "cell_type": "code",
   "execution_count": 17,
   "id": "82582ae7-b07a-494c-bacf-d79ecee576c2",
   "metadata": {},
   "outputs": [],
   "source": [
    "# convert dataframe to csv\n",
    "combined_data.to_csv('step1.csv', index=False)"
   ]
  },
  {
   "cell_type": "code",
   "execution_count": null,
   "id": "dce184da-6e00-40b8-a16c-d568ba738433",
   "metadata": {},
   "outputs": [],
   "source": []
  },
  {
   "cell_type": "code",
   "execution_count": null,
   "id": "860a8d75-f808-4074-915a-4436bae5d0d7",
   "metadata": {},
   "outputs": [],
   "source": []
  },
  {
   "cell_type": "code",
   "execution_count": null,
   "id": "5d32ad62-4189-43ca-a2f7-329bdbbaad8b",
   "metadata": {},
   "outputs": [],
   "source": []
  }
 ],
 "metadata": {
  "kernelspec": {
   "display_name": "Python 3 (ipykernel)",
   "language": "python",
   "name": "python3"
  },
  "language_info": {
   "codemirror_mode": {
    "name": "ipython",
    "version": 3
   },
   "file_extension": ".py",
   "mimetype": "text/x-python",
   "name": "python",
   "nbconvert_exporter": "python",
   "pygments_lexer": "ipython3",
   "version": "3.11.13"
  }
 },
 "nbformat": 4,
 "nbformat_minor": 5
}
