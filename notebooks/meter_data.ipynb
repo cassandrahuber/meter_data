{
 "cells": [
  {
   "cell_type": "code",
   "execution_count": 1,
   "id": "75720fb8-a987-4062-955b-e2f00f9cf216",
   "metadata": {},
   "outputs": [],
   "source": [
    "import pandas as pd\n",
    "import os"
   ]
  },
  {
   "cell_type": "code",
   "execution_count": 2,
   "id": "9db84596-5922-4892-93ab-db7937212e7e",
   "metadata": {},
   "outputs": [],
   "source": [
    "# define the base path to thumb drive (input path)\n",
    "base_path = '/Volumes/Untitled/MeterDataTest'\n",
    "\n",
    "#check if base path exists\n",
    "if not os.path.exists(base_path):\n",
    "    print(f\"Error: Path {base_path} does not exist\")\n",
    "    exit()"
   ]
  },
  {
   "cell_type": "code",
   "execution_count": 3,
   "id": "403c9494-d5af-48ee-bed4-cfae7d49ebf5",
   "metadata": {},
   "outputs": [],
   "source": [
    "# list to store all dataframes\n",
    "all_data = []\n",
    "\n",
    "# df for all data\n",
    "combined_data = pd.DataFrame()"
   ]
  },
  {
   "cell_type": "code",
   "execution_count": null,
   "id": "28056484-97ee-4edb-adc5-73ad63c26af9",
   "metadata": {},
   "outputs": [],
   "source": [
    "# iterate through the subfolders in the MeterDataTest folder\n",
    "for subfolder in os.listdir(base_path):\n",
    "    subfolder.replace(\" \", \"_\")\n",
    "    # create path for each subfolder\n",
    "    folder_path = os.path.join(base_path, subfolder)\n",
    "\n",
    "    # get the name of the meter from the subfolder name, make lowercase\n",
    "    meter_name = subfolder.lower().replace(\" \", \"_\") \n",
    "    #may need to replace \" \" with \"_\"\n",
    "\n",
    "    # list of csv file paths from subfolder\n",
    "    csv_paths = [os.path.join(folder_path, f) \n",
    "                 for f in os.listdir(folder_path) \n",
    "                 if f.endswith('.csv')]\n",
    "\n",
    "    for csv in csv_paths:\n",
    "        df = pd.read_csv(csv, encoding=\"utf-8\")\n",
    "        df.columns = df.columns.str.strip()\n",
    "        \n",
    "        # need to delete the unamed column\n",
    "\n",
    "        df.insert(0, 'meter_name', meter_name)\n",
    "        all_data.append(df)"
   ]
  },
  {
   "cell_type": "code",
   "execution_count": 17,
   "id": "fdf7fb86-d386-4db3-8d02-badb5f4dad5d",
   "metadata": {},
   "outputs": [],
   "source": [
    "combined_data = pd.concat(all_data, ignore_index=True)"
   ]
  },
  {
   "cell_type": "code",
   "execution_count": 18,
   "id": "c3b532f1-7ce4-4102-af1e-7d428a17e491",
   "metadata": {},
   "outputs": [],
   "source": [
    "combined_data.to_csv('step1.csv', index=False)"
   ]
  },
  {
   "cell_type": "code",
   "execution_count": null,
   "id": "6f584f96",
   "metadata": {},
   "outputs": [],
   "source": []
  },
  {
   "cell_type": "code",
   "execution_count": 82,
   "id": "60db81bb-fae7-499b-bb99-7a8c93e414fc",
   "metadata": {},
   "outputs": [],
   "source": [
    "# function to combine all the csvs in the subfolder add the meter_name collumn\n",
    "def combine_csvs(folder_path, meter_name):\n",
    "    data = []\n",
    "    for file_name in os.listdir(folder_path):\n",
    "        if file_name.endswith('.csv'):\n",
    "            csv_path = os.path.join(folder_path, file_name)\n",
    "\n",
    "            # encoding for mac\n",
    "            df = pd.read_csv(csv_path, encoding=\"utf-8\")\n",
    "            \n",
    "            df.insert(loc=0, column='meter_name', value=meter_name)\n",
    "            data.append(df)\n",
    "    return pd.concat(data, ignore_index=True) if data else pd.DataFrame()"
   ]
  },
  {
   "cell_type": "code",
   "execution_count": 83,
   "id": "dd8a22b1-98e3-4d24-8737-f6e06d6d67cd",
   "metadata": {},
   "outputs": [],
   "source": [
    "# iterate through the subfolders in the MeterDataTest folder\n",
    "for subfolder_name in os.listdir(base_path):\n",
    "    # create path for each subfolder\n",
    "    folder_path = os.path.join(base_path, subfolder_name)\n",
    "\n",
    "    # get the name of the meter from the subfolder name, make lowercase\n",
    "    meter_name = subfolder_name.lower()\n",
    "    #may need to replace \" \" with \"_\"\n",
    "    df = combine_csvs(folder_path, meter_name)\n",
    "    if not df.empty:\n",
    "        all_data.append(df) "
   ]
  }
 ],
 "metadata": {
  "kernelspec": {
   "display_name": "Python 3 (ipykernel)",
   "language": "python",
   "name": "python3"
  },
  "language_info": {
   "codemirror_mode": {
    "name": "ipython",
    "version": 3
   },
   "file_extension": ".py",
   "mimetype": "text/x-python",
   "name": "python",
   "nbconvert_exporter": "python",
   "pygments_lexer": "ipython3",
   "version": "3.11.13"
  }
 },
 "nbformat": 4,
 "nbformat_minor": 5
}
